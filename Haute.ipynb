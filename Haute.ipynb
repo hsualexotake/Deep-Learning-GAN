{
  "nbformat": 4,
  "nbformat_minor": 0,
  "metadata": {
    "colab": {
      "provenance": [],
      "gpuType": "T4"
    },
    "kernelspec": {
      "name": "python3",
      "display_name": "Python 3"
    },
    "language_info": {
      "name": "python"
    },
    "accelerator": "GPU"
  },
  "cells": [
    {
      "cell_type": "markdown",
      "source": [
        "Dependencies:\n",
        "tensorflow: 2.8.0"
      ],
      "metadata": {
        "id": "jHIInWfeH1yL"
      }
    },
    {
      "cell_type": "code",
      "execution_count": null,
      "metadata": {
        "id": "-y2XcejrC09V"
      },
      "outputs": [],
      "source": [
        "!pip install tensorflow matplotlib tensorflow-datasets ipywidgets"
      ]
    },
    {
      "cell_type": "code",
      "source": [
        "from google.colab import drive\n",
        "!pip install ultralytics\n",
        "drive.mount('/content/drive')\n",
        "\n",
        "import tensorflow_datasets as tfds\n",
        "import tensorflow as tf\n",
        "from matplotlib import pyplot as plt\n",
        "import numpy as np\n"
      ],
      "metadata": {
        "id": "YgrcSsMut9d_"
      },
      "execution_count": null,
      "outputs": []
    },
    {
      "cell_type": "code",
      "source": [
        "!ls '/content/drive/MyDrive/fashionGAN/images'"
      ],
      "metadata": {
        "id": "a_ypu6gZuEPs"
      },
      "execution_count": null,
      "outputs": []
    },
    {
      "cell_type": "code",
      "source": [
        "DATA_DIR = '/content/drive/MyDrive/fashionGAN/images'"
      ],
      "metadata": {
        "id": "dnjDMdrHuP0a"
      },
      "execution_count": null,
      "outputs": []
    },
    {
      "cell_type": "code",
      "source": [
        "dataset = tfds.load('fashion_mnist', split='train')"
      ],
      "metadata": {
        "id": "iI1JYGQBKOli"
      },
      "execution_count": null,
      "outputs": []
    },
    {
      "cell_type": "code",
      "source": [
        "dataiterator = dataset.as_numpy_iterator()"
      ],
      "metadata": {
        "id": "rdJ1ZNJ2L41q"
      },
      "execution_count": null,
      "outputs": []
    },
    {
      "cell_type": "code",
      "source": [
        "fig, axis = plt.subplots(ncols = 4, figsize = (20,20))\n",
        "for i in range(5):\n",
        "  batch = dataiterator.next()\n",
        "\n",
        "  axis[i].imshow(np.squeeze(batch['Image']))\n",
        "  axis[i].title.set_text(batch['Label'])"
      ],
      "metadata": {
        "colab": {
          "base_uri": "https://localhost:8080/",
          "height": 307
        },
        "id": "iJQ8wJvaMQkr",
        "outputId": "8c7d9700-1f35-41be-f79c-80e7079a8938"
      },
      "execution_count": null,
      "outputs": [
        {
          "output_type": "display_data",
          "data": {
            "text/plain": [
              "<Figure size 1440x1440 with 4 Axes>"
            ],
            "image/png": "[encoded data removed]"
          },
          "metadata": {
            "needs_background": "light"
          }
        }
      ]
    },
    {
      "cell_type": "code",
      "source": [
        "def scale_images(data):\n",
        "    image = data['Image']\n",
        "    return image / 255"
      ],
      "metadata": {
        "id": "fdufk2FOQSTq"
      },
      "execution_count": null,
      "outputs": []
    },
    {
      "cell_type": "code",
      "source": [
        "# Preprocessing and caching the dataset\n",
        "dataset = tfds.load('fashion_mnist', split='train')\n",
        "dataset = dataset.map(scale_images)\n",
        "dataset = dataset.cache()\n",
        "dataset = dataset.shuffle(30000)\n",
        "dataset = dataset.batch(128)\n",
        "dataset = dataset.prefetch(64)"
      ],
      "metadata": {
        "id": "e9eMCKJxQ8-7"
      },
      "execution_count": null,
      "outputs": []
    },
    {
      "cell_type": "code",
      "source": [
        "dataset.as_numpy_iterator().next().shape"
      ],
      "metadata": {
        "colab": {
          "base_uri": "https://localhost:8080/"
        },
        "id": "h6LYJS-dRfgZ",
        "outputId": "8ecb3cdd-f162-4bc3-cd41-9b17c26b201b"
      },
      "execution_count": null,
      "outputs": [
        {
          "output_type": "execute_result",
          "data": {
            "text/plain": [
              "(128, 28, 28, 1)"
            ]
          },
          "metadata": {},
          "execution_count": 113
        }
      ]
    },
    {
      "cell_type": "markdown",
      "source": [
        "a) Generator:"
      ],
      "metadata": {
        "id": "2tpVcEaW53Sq"
      }
    },
    {
      "cell_type": "code",
      "source": [
        "from tensorflow.keras.models import Sequential\n",
        "from tensorflow.keras.layers import Conv2D, Dense, Flatten, Reshape, LeakyReLU, Dropout, UpSampling2D"
      ],
      "metadata": {
        "id": "s1amEZ4DXUie"
      },
      "execution_count": null,
      "outputs": []
    },
    {
      "cell_type": "code",
      "source": [
        "def generatorBuilder:\n",
        "    gseq = Sequential()\n",
        "\n",
        "    # Takes in random values and reshapes it to 7x7x128\n",
        "    # Beginnings of a generated image\n",
        "    gseq.add(Dense(7*7*128, input_dim=128))\n",
        "    gseq.add(LeakyReLU(0.2))\n",
        "    gseq.add(Reshape((7,7,128)))\n",
        "\n",
        "    # Upsampling block 1\n",
        "    gseq.add(UpSampling2D())\n",
        "    gseq.add(Conv2D(128, 5, padding='same'))\n",
        "    gseq.add(LeakyReLU(0.2))\n",
        "\n",
        "    # Upsampling block 2\n",
        "    gseq.add(UpSampling2D())\n",
        "    gseq.add(Conv2D(128, 5, padding='same'))\n",
        "    gseq.add(LeakyReLU(0.2))\n",
        "\n",
        "    # Convolutional block 1\n",
        "    gseq.add(Conv2D(128, 4, padding='same'))\n",
        "    gseq.add(LeakyReLU(0.2))\n",
        "\n",
        "    # Convolutional block 2\n",
        "    gseq.add(Conv2D(128, 4, padding='same'))\n",
        "    gseq.add(LeakyReLU(0.2))\n",
        "\n",
        "    # Conv layer to get to one channel\n",
        "    gseq.add(Conv2D(1, 4, padding='same', activation='sigmoid'))\n",
        "\n",
        "    return gseq"
      ],
      "metadata": {
        "id": "4McDbvSoYRrd"
      },
      "execution_count": null,
      "outputs": []
    },
    {
      "cell_type": "code",
      "source": [
        "generator = generatorBuilder()"
      ],
      "metadata": {
        "id": "Ok_KGM1LiYDY"
      },
      "execution_count": null,
      "outputs": []
    },
    {
      "cell_type": "code",
      "source": [
        "generator.summary()"
      ],
      "metadata": {
        "colab": {
          "base_uri": "https://localhost:8080/"
        },
        "id": "HxsAMorhifb3",
        "outputId": "83fe90f3-cd16-4778-d427-4dacd1a6f2af"
      },
      "execution_count": null,
      "outputs": [
        {
          "output_type": "stream",
          "name": "stdout",
          "text": [
            "Model: \"sequential_10\"\n",
            "_________________________________________________________________\n",
            " Layer (type)                Output Shape              Param #   \n",
            "=================================================================\n",
            " dense_10 (Dense)            (None, 6272)              809088    \n",
            "                                                                 \n",
            " leaky_re_lu_45 (LeakyReLU)  (None, 6272)              0         \n",
            "                                                                 \n",
            " reshape_5 (Reshape)         (None, 7, 7, 128)         0         \n",
            "                                                                 \n",
            " up_sampling2d_10 (UpSampli  (None, 14, 14, 128)       0         \n",
            " ng2D)                                                           \n",
            "                                                                 \n",
            " conv2d_45 (Conv2D)          (None, 14, 14, 128)       409728    \n",
            "                                                                 \n",
            " leaky_re_lu_46 (LeakyReLU)  (None, 14, 14, 128)       0         \n",
            "                                                                 \n",
            " up_sampling2d_11 (UpSampli  (None, 28, 28, 128)       0         \n",
            " ng2D)                                                           \n",
            "                                                                 \n",
            " conv2d_46 (Conv2D)          (None, 28, 28, 128)       409728    \n",
            "                                                                 \n",
            " leaky_re_lu_47 (LeakyReLU)  (None, 28, 28, 128)       0         \n",
            "                                                                 \n",
            " conv2d_47 (Conv2D)          (None, 28, 28, 128)       262272    \n",
            "                                                                 \n",
            " leaky_re_lu_48 (LeakyReLU)  (None, 28, 28, 128)       0         \n",
            "                                                                 \n",
            " conv2d_48 (Conv2D)          (None, 28, 28, 128)       262272    \n",
            "                                                                 \n",
            " leaky_re_lu_49 (LeakyReLU)  (None, 28, 28, 128)       0         \n",
            "                                                                 \n",
            " conv2d_49 (Conv2D)          (None, 28, 28, 1)         2049      \n",
            "                                                                 \n",
            "=================================================================\n",
            "Total params: 2155137 (8.22 MB)\n",
            "Trainable params: 2155137 (8.22 MB)\n",
            "Non-trainable params: 0 (0.00 Byte)\n",
            "_________________________________________________________________\n"
          ]
        }
      ]
    },
    {
      "cell_type": "code",
      "source": [
        "image = generator.predict(np.random.randn(4,128,1))"
      ],
      "metadata": {
        "colab": {
          "base_uri": "https://localhost:8080/"
        },
        "id": "a-o2PN_n_LyN",
        "outputId": "8750159d-be53-447f-bc25-7fad7d64e10f"
      },
      "execution_count": null,
      "outputs": [
        {
          "output_type": "stream",
          "name": "stderr",
          "text": [
            "WARNING:tensorflow:5 out of the last 10 calls to <function Model.make_predict_function.<locals>.predict_function at 0x7f0bc2149d80> triggered tf.function retracing. Tracing is expensive and the excessive number of tracings could be due to (1) creating @tf.function repeatedly in a loop, (2) passing tensors with different shapes, (3) passing Python objects instead of tensors. For (1), please define your @tf.function outside of the loop. For (2), @tf.function has reduce_retracing=True option that can avoid unnecessary retracing. For (3), please refer to https://www.tensorflow.org/guide/function#controlling_retracing and https://www.tensorflow.org/api_docs/python/tf/function for  more details.\n"
          ]
        },
        {
          "output_type": "stream",
          "name": "stdout",
          "text": [
            "1/1 [==============================] - 0s 148ms/step\n"
          ]
        }
      ]
    },
    {
      "cell_type": "code",
      "source": [
        "image.shape"
      ],
      "metadata": {
        "colab": {
          "base_uri": "https://localhost:8080/"
        },
        "id": "JT7jSH0A_PiW",
        "outputId": "6999b939-e315-4161-863d-ed2b8a2535d4"
      },
      "execution_count": null,
      "outputs": [
        {
          "output_type": "execute_result",
          "data": {
            "text/plain": [
              "(4, 28, 28, 1)"
            ]
          },
          "metadata": {},
          "execution_count": 119
        }
      ]
    },
    {
      "cell_type": "code",
      "source": [
        "image = generator.predict(np.random.randn(4,128,1))\n",
        "fig, axis = plt.subplots(ncols=4, figsize=(20,20))\n",
        "\n",
        "for i, image in enumerate(image):\n",
        "    axis[i].imshow(np.squeeze(image))\n",
        "    axis[i].title.set_text(i)"
      ],
      "metadata": {
        "colab": {
          "base_uri": "https://localhost:8080/",
          "height": 324
        },
        "id": "XhRLMZ7Hmaxf",
        "outputId": "7ad76495-8295-4d73-c6d2-c4bef0035342"
      },
      "execution_count": null,
      "outputs": [
        {
          "output_type": "stream",
          "name": "stdout",
          "text": [
            "1/1 [==============================] - 0s 21ms/step\n"
          ]
        },
        {
          "output_type": "display_data",
          "data": {
            "text/plain": [
              "<Figure size 1440x1440 with 4 Axes>"
            ],
            "image/png": "[encoded data removed]"
          },
          "metadata": {
            "needs_background": "light"
          }
        }
      ]
    },
    {
      "cell_type": "markdown",
      "source": [
        "b) Discriminator:"
      ],
      "metadata": {
        "id": "SQhbFfYA5kOk"
      }
    },
    {
      "cell_type": "code",
      "source": [
        "def discriminatorBuilder():\n",
        "    seqD = Sequential()\n",
        "\n",
        "    # First Conv Block\n",
        "    seqD.add(Conv2D(32, 5, input_shape = (28,28,1)))\n",
        "    seqD.add(LeakyReLU(0.2))\n",
        "    seqD.add(Dropout(0.4))\n",
        "\n",
        "    # Second Conv Block\n",
        "    seqD.add(Conv2D(64, 5))\n",
        "    seqD.add(LeakyReLU(0.2))\n",
        "    seqD.add(Dropout(0.4))\n",
        "\n",
        "    # Third Conv Block\n",
        "    seqD.add(Conv2D(128, 5))\n",
        "    seqD.add(LeakyReLU(0.2))\n",
        "    seqD.add(Dropout(0.4))\n",
        "\n",
        "    # Fourth Conv Block\n",
        "    seqD.add(Conv2D(256, 5))\n",
        "    seqD.add(LeakyReLU(0.2))\n",
        "    seqD.add(Dropout(0.4))\n",
        "\n",
        "    # Flatten then pass to dense layer\n",
        "    seqD.add(Flatten())\n",
        "    seqD.add(Dropout(0.4))\n",
        "    seqD.add(Dense(1, activation='sigmoid'))\n",
        "\n",
        "    return seqD"
      ],
      "metadata": {
        "id": "bfzeqfzg5ifx"
      },
      "execution_count": null,
      "outputs": []
    },
    {
      "cell_type": "code",
      "source": [
        "discriminator = discriminatorBuilder()"
      ],
      "metadata": {
        "id": "6Qi3as5D60S2"
      },
      "execution_count": null,
      "outputs": []
    },
    {
      "cell_type": "code",
      "source": [
        "discriminator.summary()"
      ],
      "metadata": {
        "colab": {
          "base_uri": "https://localhost:8080/"
        },
        "id": "aGuuKIdf62LD",
        "outputId": "3aa6972b-13a0-49b8-8ff8-9f9584b0e199"
      },
      "execution_count": null,
      "outputs": [
        {
          "output_type": "stream",
          "name": "stdout",
          "text": [
            "Model: \"sequential_9\"\n",
            "_________________________________________________________________\n",
            " Layer (type)                Output Shape              Param #   \n",
            "=================================================================\n",
            " conv2d_41 (Conv2D)          (None, 24, 24, 32)        832       \n",
            "                                                                 \n",
            " leaky_re_lu_41 (LeakyReLU)  (None, 24, 24, 32)        0         \n",
            "                                                                 \n",
            " dropout_20 (Dropout)        (None, 24, 24, 32)        0         \n",
            "                                                                 \n",
            " conv2d_42 (Conv2D)          (None, 20, 20, 64)        51264     \n",
            "                                                                 \n",
            " leaky_re_lu_42 (LeakyReLU)  (None, 20, 20, 64)        0         \n",
            "                                                                 \n",
            " dropout_21 (Dropout)        (None, 20, 20, 64)        0         \n",
            "                                                                 \n",
            " conv2d_43 (Conv2D)          (None, 16, 16, 128)       204928    \n",
            "                                                                 \n",
            " leaky_re_lu_43 (LeakyReLU)  (None, 16, 16, 128)       0         \n",
            "                                                                 \n",
            " dropout_22 (Dropout)        (None, 16, 16, 128)       0         \n",
            "                                                                 \n",
            " conv2d_44 (Conv2D)          (None, 12, 12, 256)       819456    \n",
            "                                                                 \n",
            " leaky_re_lu_44 (LeakyReLU)  (None, 12, 12, 256)       0         \n",
            "                                                                 \n",
            " dropout_23 (Dropout)        (None, 12, 12, 256)       0         \n",
            "                                                                 \n",
            " flatten_4 (Flatten)         (None, 36864)             0         \n",
            "                                                                 \n",
            " dropout_24 (Dropout)        (None, 36864)             0         \n",
            "                                                                 \n",
            " dense_9 (Dense)             (None, 1)                 36865     \n",
            "                                                                 \n",
            "=================================================================\n",
            "Total params: 1113345 (4.25 MB)\n",
            "Trainable params: 1113345 (4.25 MB)\n",
            "Non-trainable params: 0 (0.00 Byte)\n",
            "_________________________________________________________________\n"
          ]
        }
      ]
    },
    {
      "cell_type": "code",
      "source": [
        "image.shape"
      ],
      "metadata": {
        "colab": {
          "base_uri": "https://localhost:8080/"
        },
        "id": "nlmmfQJE-mEM",
        "outputId": "16f9fa02-afd1-48f3-9c80-88ca573cfa32"
      },
      "execution_count": null,
      "outputs": [
        {
          "output_type": "execute_result",
          "data": {
            "text/plain": [
              "(28, 28, 1)"
            ]
          },
          "metadata": {},
          "execution_count": 97
        }
      ]
    },
    {
      "cell_type": "code",
      "source": [
        "image = image[0]\n",
        "#dont run this, we want to keep the img.shape at (4,28,28,1)"
      ],
      "metadata": {
        "id": "peFkO_NM9rKR"
      },
      "execution_count": null,
      "outputs": []
    },
    {
      "cell_type": "code",
      "source": [
        "image.shape"
      ],
      "metadata": {
        "colab": {
          "base_uri": "https://localhost:8080/"
        },
        "id": "ULa69aTp9xFY",
        "outputId": "623ec2fe-4922-4ae6-d0f3-fcae3c69bc04"
      },
      "execution_count": null,
      "outputs": [
        {
          "output_type": "execute_result",
          "data": {
            "text/plain": [
              "(4, 28, 28, 1)"
            ]
          },
          "metadata": {},
          "execution_count": 122
        }
      ]
    },
    {
      "cell_type": "code",
      "source": [
        "discriminator.predict(img)"
      ],
      "metadata": {
        "colab": {
          "base_uri": "https://localhost:8080/"
        },
        "id": "JyaVaxwp9u5C",
        "outputId": "30ef54d2-d4dc-496d-89fd-75b9dadfa15f"
      },
      "execution_count": null,
      "outputs": [
        {
          "output_type": "stream",
          "name": "stderr",
          "text": [
            "WARNING:tensorflow:6 out of the last 11 calls to <function Model.make_predict_function.<locals>.predict_function at 0x7f0bc75e7f40> triggered tf.function retracing. Tracing is expensive and the excessive number of tracings could be due to (1) creating @tf.function repeatedly in a loop, (2) passing tensors with different shapes, (3) passing Python objects instead of tensors. For (1), please define your @tf.function outside of the loop. For (2), @tf.function has reduce_retracing=True option that can avoid unnecessary retracing. For (3), please refer to https://www.tensorflow.org/guide/function#controlling_retracing and https://www.tensorflow.org/api_docs/python/tf/function for  more details.\n"
          ]
        },
        {
          "output_type": "stream",
          "name": "stdout",
          "text": [
            "1/1 [==============================] - 0s 475ms/step\n"
          ]
        },
        {
          "output_type": "execute_result",
          "data": {
            "text/plain": [
              "array([[0.49068445],\n",
              "       [0.4905256 ],\n",
              "       [0.49058494],\n",
              "       [0.49073038]], dtype=float32)"
            ]
          },
          "metadata": {},
          "execution_count": 121
        }
      ]
    },
    {
      "cell_type": "code",
      "source": [
        "#Training Loop\n",
        "\n",
        "from tensorflow.keras.optimizers import Adam\n",
        "from tensorflow.keras.losses import BinaryCrossentropy\n",
        "from tensorflow.keras.models import Model"
      ],
      "metadata": {
        "id": "h1PGbw_X_7so"
      },
      "execution_count": null,
      "outputs": []
    },
    {
      "cell_type": "code",
      "source": [
        "generator_opt = Adam(learning_rate=0.0001)\n",
        "discriminator_opt = Adam(learning_rate=0.00001)\n",
        "\n",
        "generator_loss = BinaryCrossentropy()\n",
        "discriminator_loss = BinaryCrossentropy()"
      ],
      "metadata": {
        "id": "jHw0ecIiCiOF"
      },
      "execution_count": null,
      "outputs": []
    },
    {
      "cell_type": "code",
      "source": [
        "class GAN(Model):\n",
        "  def __init__(self, generator, discriminator, *args, **kwargs):\n",
        "    super().__init__(*args, **kwargs)\n",
        "    self.generator = generator\n",
        "    self.discriminator = discriminator\n",
        "\n",
        "\n",
        "  def compile(self, generator_opt, discriminator_opt, generator_loss, discriminator_loss, *args, **kwargs):\n",
        "    super().compile(*args, **kwargs)\n",
        "    self.generator_opt = generator_opt\n",
        "    self.discriminator_opt = discriminator_opt\n",
        "    self.generator_loss = generator_loss\n",
        "    self.discriminator_loss = discriminator_loss\n",
        "    pass\n",
        "  def train_step(self, batch):\n",
        "    real_images = batch\n",
        "    fake_images = self.generator(tf.random.normal((128,128,1)), training = False)\n",
        "\n",
        "    #TRAINING\n",
        "\n",
        "    with tf.GradientTape() as d_tape:\n",
        "      yhat_real = self.discriminator(real_images, training=True)\n",
        "      yhat_fake = self.discriminator(fake_images, training=True)\n",
        "      yhat_realfake = tf.concat([yhat_real, yhat_fake], axis=0)\n",
        "\n",
        "      #real images = 0\n",
        "      #fake images = 1\n",
        "\n",
        "      realorfake = tf.concat([tf.zeros_like(yhat_real), tf.ones_like(yhat_fake)], axis=0)\n",
        "\n",
        "      real_noise = 0.15*tf.random.uniform(tf.shape(yhat_real))\n",
        "      fake_noise = -0.15*tf.random.uniform(tf.shape(yhat_fake))\n",
        "\n",
        "      realorfake += tf.concat([real_noise, fake_noise], axis=0) #this noise is added in an effort to confuse the discriminator to make it more accurate later\n",
        "\n",
        "\n",
        "      total_d_loss = self.discriminator_loss(realorfake, yhat_realfake)  #calculating loss function\n",
        "\n",
        "      #backpropgation- dgrad = gradiant\n",
        "      dgrad = d_tape.gradient(total_d_loss, self.discriminator.trainable_variables)\n",
        "      self.discriminator_opt.apply_gradients(zip(dgrad, self.discriminator.trainable_variables))\n",
        "\n",
        "      with tf.GradientTape() as g_tape:\n",
        "        gen_images = self.generator(tf.random.normal((128,128,1)), training=True)\n",
        "        predicted_labels = self.discriminator(gen_images, training=False)\n",
        "        total_g_loss = self.generator_loss(tf.zeros_like(predicted_labels), predicted_labels) #calculates Loss function\n",
        "\n",
        "      # Backpropogation\n",
        "      ggrad = g_tape.gradient(total_g_loss, self.generator.trainable_variables)\n",
        "      self.generator_opt.apply_gradients(zip(ggrad, self.generator.trainable_variables))\n",
        "\n",
        "      return {\"Discriminator Loss\":total_d_loss, \"Generator Loss\":total_g_loss}\n",
        "\n",
        "      #we are generating fake images so we are rewarding generator for faking out the discriminator\n"
      ],
      "metadata": {
        "id": "C-tj5za8Dzn6"
      },
      "execution_count": null,
      "outputs": []
    },
    {
      "cell_type": "code",
      "source": [
        "fashionGAN = GAN(generator, discriminator,)"
      ],
      "metadata": {
        "id": "VHbWxezql0EE"
      },
      "execution_count": null,
      "outputs": []
    },
    {
      "cell_type": "code",
      "source": [
        "fashionGAN.compile(generator_opt, discriminator_opt, generator_loss, discriminator_loss)"
      ],
      "metadata": {
        "id": "LOsHPvXel4cF"
      },
      "execution_count": null,
      "outputs": []
    },
    {
      "cell_type": "code",
      "source": [
        "import os\n",
        "from tensorflow.keras.preprocessing.image import array_to_img\n",
        "from tensorflow.keras.callbacks import Callback"
      ],
      "metadata": {
        "id": "2ZRlVzwumNeW"
      },
      "execution_count": null,
      "outputs": []
    },
    {
      "cell_type": "code",
      "source": [
        "class ModelMonitor(Callback):\n",
        "    def __init__(self, img_num=3, latent_dimension=128):\n",
        "        self.img_num = img_num\n",
        "        self.latent_dimension = latent_dimension\n",
        "\n",
        "\n",
        "\n",
        "    def end_of_epoch(self, epoch, logs=None):\n",
        "        random_latent_vectors = tf.random.uniform((self.img_num, self.latent_dimension,1))\n",
        "\n",
        "        generated = self.model.generator(random_latent_vectors)\n",
        "        generated *= 255\n",
        "        generated.numpy()\n",
        "        for i in range(self.img_num):\n",
        "            img = array_to_img(generated[i])\n",
        "            img.save(os.path.join(DATA_DIR, f'generated{epoch}_{i}.png'))"
      ],
      "metadata": {
        "id": "CxTOzEt8mpjO"
      },
      "execution_count": null,
      "outputs": []
    },
    {
      "cell_type": "code",
      "source": [
        "# Because of personal GPU limitation only 115 epochs could be run without crashing. But for a strong machine, use > 2000 epochs so the images will come out more accurate\n",
        "\n",
        "hist = fashionGAN.fit(dataset, epochs = 200, callbacks=[ModelMonitor()])"
      ],
      "metadata": {
        "colab": {
          "base_uri": "https://localhost:8080/"
        },
        "id": "XtTMPzcUsC5_",
        "outputId": "834d2335-6ead-4a5a-b9da-77069c268480"
      },
      "execution_count": null,
      "outputs": [
        {
          "metadata": {
            "tags": null
          },
          "name": "stdout",
          "output_type": "stream",
          "text": [
            "Epoch 1/500\n",
            "  6/469 [..............................] - ETA: 1:12 - d_loss: 0.7130 - g_loss: 0.6277"
          ]
        },
        {
          "metadata": {
            "tags": null
          },
          "name": "stderr",
          "output_type": "stream",
          "text": [
            "WARNING:tensorflow:Callback method `on_train_batch_end` is slow compared to the batch time (batch time: 0.0732s vs `on_train_batch_end` time: 0.0866s). Check your callbacks.\n"
          ]
        },
        {
          "output_type": "stream",
          "name": "stdout",
          "text": [
            "469/469 [==============================] - 75s 160ms/step - d_loss: 0.6916 - g_loss: 0.6555\n",
            "Epoch 2/500\n",
            "469/469 [==============================] - 77s 165ms/step - d_loss: 0.6951 - g_loss: 0.6483\n",
            "Epoch 3/500\n",
            "469/469 [==============================] - 77s 165ms/step - d_loss: 0.6778 - g_loss: 0.6585\n",
            "Epoch 4/500\n",
            "469/469 [==============================] - 77s 165ms/step - d_loss: 0.6946 - g_loss: 0.6416\n",
            "Epoch 5/500\n",
            "469/469 [==============================] - 77s 165ms/step - d_loss: 0.6662 - g_loss: 0.6760\n",
            "Epoch 6/500\n",
            "469/469 [==============================] - 77s 165ms/step - d_loss: 0.6969 - g_loss: 0.6286\n",
            "Epoch 7/500\n",
            "469/469 [==============================] - 77s 165ms/step - d_loss: 0.6870 - g_loss: 0.6478\n",
            "Epoch 8/500\n",
            "469/469 [==============================] - 77s 165ms/step - d_loss: 0.6922 - g_loss: 0.6514\n",
            "Epoch 9/500\n",
            "469/469 [==============================] - 77s 164ms/step - d_loss: 0.6727 - g_loss: 0.6725\n",
            "Epoch 10/500\n",
            "469/469 [==============================] - 77s 165ms/step - d_loss: 0.6957 - g_loss: 0.6338\n",
            "Epoch 11/500\n",
            "469/469 [==============================] - 77s 165ms/step - d_loss: 0.6860 - g_loss: 0.6423\n",
            "Epoch 12/500\n",
            "469/469 [==============================] - 77s 164ms/step - d_loss: 0.6842 - g_loss: 0.6384\n",
            "Epoch 13/500\n",
            "469/469 [==============================] - 77s 165ms/step - d_loss: 0.6930 - g_loss: 0.6419\n",
            "Epoch 14/500\n",
            "469/469 [==============================] - 77s 165ms/step - d_loss: 0.6899 - g_loss: 0.6355\n",
            "Epoch 15/500\n",
            "469/469 [==============================] - 77s 165ms/step - d_loss: 0.6925 - g_loss: 0.6439\n",
            "Epoch 16/500\n",
            "469/469 [==============================] - 77s 165ms/step - d_loss: 0.6927 - g_loss: 0.6520\n",
            "Epoch 17/500\n",
            "469/469 [==============================] - 77s 165ms/step - d_loss: 0.6764 - g_loss: 0.6633\n",
            "Epoch 18/500\n",
            "469/469 [==============================] - 77s 165ms/step - d_loss: 0.6246 - g_loss: 0.6242\n",
            "Epoch 19/500\n",
            "469/469 [==============================] - 77s 165ms/step - d_loss: 0.6927 - g_loss: 0.6101\n",
            "Epoch 20/500\n",
            "469/469 [==============================] - 77s 165ms/step - d_loss: 0.6764 - g_loss: 0.6242\n",
            "Epoch 21/500\n",
            "469/469 [==============================] - 77s 165ms/step - d_loss: 0.6732 - g_loss: 0.6188\n",
            "Epoch 22/500\n",
            "469/469 [==============================] - 77s 165ms/step - d_loss: 0.6994 - g_loss: 0.6039\n",
            "Epoch 23/500\n",
            "469/469 [==============================] - 77s 165ms/step - d_loss: 0.6826 - g_loss: 0.6579\n",
            "Epoch 24/500\n",
            "469/469 [==============================] - 77s 165ms/step - d_loss: 0.6817 - g_loss: 0.6782\n",
            "Epoch 25/500\n",
            "469/469 [==============================] - 77s 164ms/step - d_loss: 0.5351 - g_loss: 0.5302\n",
            "Epoch 26/500\n",
            "469/469 [==============================] - 77s 164ms/step - d_loss: 0.6947 - g_loss: 0.5924\n",
            "Epoch 27/500\n",
            "469/469 [==============================] - 77s 165ms/step - d_loss: 0.6865 - g_loss: 0.6071\n",
            "Epoch 28/500\n",
            "469/469 [==============================] - 77s 164ms/step - d_loss: 0.6257 - g_loss: 0.6413\n",
            "Epoch 29/500\n",
            "469/469 [==============================] - 77s 165ms/step - d_loss: 0.6708 - g_loss: 0.6122\n",
            "Epoch 30/500\n",
            "469/469 [==============================] - 77s 165ms/step - d_loss: 0.6966 - g_loss: 0.5853\n",
            "Epoch 31/500\n",
            "469/469 [==============================] - 77s 165ms/step - d_loss: 0.6875 - g_loss: 0.6613\n",
            "Epoch 32/500\n",
            "469/469 [==============================] - 77s 165ms/step - d_loss: 0.6870 - g_loss: 0.6533\n",
            "Epoch 33/500\n",
            "469/469 [==============================] - 77s 164ms/step - d_loss: 0.7032 - g_loss: 0.6208\n",
            "Epoch 34/500\n",
            "469/469 [==============================] - 77s 165ms/step - d_loss: 0.6767 - g_loss: 0.6559\n",
            "Epoch 35/500\n",
            "469/469 [==============================] - 77s 165ms/step - d_loss: 0.6847 - g_loss: 0.6663\n",
            "Epoch 36/500\n",
            "469/469 [==============================] - 77s 165ms/step - d_loss: 0.6864 - g_loss: 0.6502\n",
            "Epoch 37/500\n",
            "469/469 [==============================] - 77s 164ms/step - d_loss: 0.6922 - g_loss: 0.6582\n",
            "Epoch 38/500\n",
            "469/469 [==============================] - 77s 164ms/step - d_loss: 0.6792 - g_loss: 0.6447\n",
            "Epoch 39/500\n",
            "469/469 [==============================] - 77s 165ms/step - d_loss: 0.6907 - g_loss: 0.6514\n",
            "Epoch 40/500\n",
            "469/469 [==============================] - 77s 164ms/step - d_loss: 0.6621 - g_loss: 0.7474\n",
            "Epoch 41/500\n",
            "469/469 [==============================] - 77s 164ms/step - d_loss: 0.5578 - g_loss: 0.6097\n",
            "Epoch 42/500\n",
            "469/469 [==============================] - 77s 165ms/step - d_loss: 0.6825 - g_loss: 0.6078\n",
            "Epoch 43/500\n",
            "469/469 [==============================] - 77s 165ms/step - d_loss: 0.6981 - g_loss: 0.6014\n",
            "Epoch 44/500\n",
            "469/469 [==============================] - 77s 165ms/step - d_loss: 0.6755 - g_loss: 0.6501\n",
            "Epoch 45/500\n",
            "469/469 [==============================] - 77s 165ms/step - d_loss: 0.7007 - g_loss: 0.6325\n",
            "Epoch 46/500\n",
            "469/469 [==============================] - 77s 165ms/step - d_loss: 0.6894 - g_loss: 0.6411\n",
            "Epoch 47/500\n",
            "469/469 [==============================] - 77s 164ms/step - d_loss: 0.6987 - g_loss: 0.6356\n",
            "Epoch 48/500\n",
            "469/469 [==============================] - 77s 165ms/step - d_loss: 0.6805 - g_loss: 0.6561\n",
            "Epoch 49/500\n",
            "469/469 [==============================] - 77s 165ms/step - d_loss: 0.6912 - g_loss: 0.6384\n",
            "Epoch 50/500\n",
            "469/469 [==============================] - 77s 165ms/step - d_loss: 0.7016 - g_loss: 0.6249\n",
            "Epoch 51/500\n",
            "469/469 [==============================] - 77s 165ms/step - d_loss: 0.6559 - g_loss: 0.6980\n",
            "Epoch 52/500\n",
            "469/469 [==============================] - 77s 165ms/step - d_loss: 0.6949 - g_loss: 0.6173\n",
            "Epoch 53/500\n",
            "469/469 [==============================] - 77s 165ms/step - d_loss: 0.6783 - g_loss: 0.6313\n",
            "Epoch 54/500\n",
            "469/469 [==============================] - 77s 165ms/step - d_loss: 0.6964 - g_loss: 0.6313\n",
            "Epoch 55/500\n",
            "469/469 [==============================] - 77s 165ms/step - d_loss: 0.7012 - g_loss: 0.6323\n",
            "Epoch 56/500\n",
            "469/469 [==============================] - 77s 165ms/step - d_loss: 0.6778 - g_loss: 0.6816\n",
            "Epoch 57/500\n",
            "469/469 [==============================] - 77s 165ms/step - d_loss: 0.6943 - g_loss: 0.6483\n",
            "Epoch 58/500\n",
            "469/469 [==============================] - 77s 165ms/step - d_loss: 0.6719 - g_loss: 0.7077\n",
            "Epoch 59/500\n",
            "469/469 [==============================] - 78s 165ms/step - d_loss: 0.6986 - g_loss: 0.6123\n",
            "Epoch 60/500\n",
            "469/469 [==============================] - 77s 165ms/step - d_loss: 0.6920 - g_loss: 0.6558\n",
            "Epoch 61/500\n",
            "469/469 [==============================] - 77s 165ms/step - d_loss: 0.6890 - g_loss: 0.6539\n",
            "Epoch 62/500\n",
            "469/469 [==============================] - 77s 165ms/step - d_loss: 0.6894 - g_loss: 0.6610\n",
            "Epoch 63/500\n",
            "469/469 [==============================] - 77s 165ms/step - d_loss: 0.6776 - g_loss: 0.6726\n",
            "Epoch 64/500\n",
            "469/469 [==============================] - 77s 165ms/step - d_loss: 0.6817 - g_loss: 0.6648\n",
            "Epoch 65/500\n",
            "469/469 [==============================] - 77s 165ms/step - d_loss: 0.6936 - g_loss: 0.6425\n",
            "Epoch 66/500\n",
            "469/469 [==============================] - 77s 165ms/step - d_loss: 0.4994 - g_loss: 1.5840\n",
            "Epoch 67/500\n",
            "469/469 [==============================] - 77s 164ms/step - d_loss: 0.2698 - g_loss: 2.7325\n",
            "Epoch 68/500\n",
            "469/469 [==============================] - 77s 165ms/step - d_loss: 0.2684 - g_loss: 2.7939\n",
            "Epoch 69/500\n",
            "469/469 [==============================] - 77s 165ms/step - d_loss: 0.2685 - g_loss: 2.8015\n",
            "Epoch 70/500\n",
            "469/469 [==============================] - 77s 165ms/step - d_loss: 0.2679 - g_loss: 2.8035\n",
            "Epoch 71/500\n",
            "469/469 [==============================] - 77s 164ms/step - d_loss: 0.2680 - g_loss: 2.7937\n",
            "Epoch 72/500\n",
            "469/469 [==============================] - 77s 164ms/step - d_loss: 0.2680 - g_loss: 2.7932\n",
            "Epoch 73/500\n",
            "469/469 [==============================] - 77s 164ms/step - d_loss: 0.2674 - g_loss: 2.7983\n",
            "Epoch 74/500\n",
            "469/469 [==============================] - 77s 165ms/step - d_loss: 0.2676 - g_loss: 2.7889\n",
            "Epoch 75/500\n",
            "469/469 [==============================] - 77s 164ms/step - d_loss: 0.2677 - g_loss: 2.7831\n",
            "Epoch 76/500\n",
            "469/469 [==============================] - 77s 165ms/step - d_loss: 0.2674 - g_loss: 2.7864\n",
            "Epoch 77/500\n",
            "469/469 [==============================] - 77s 165ms/step - d_loss: 0.2666 - g_loss: 2.7919\n",
            "Epoch 78/500\n",
            "469/469 [==============================] - 77s 165ms/step - d_loss: 0.2677 - g_loss: 2.7858\n",
            "Epoch 79/500\n",
            "469/469 [==============================] - 77s 165ms/step - d_loss: 0.3296 - g_loss: 0.5915\n",
            "Epoch 80/500\n",
            "469/469 [==============================] - 77s 164ms/step - d_loss: 0.3600 - g_loss: 0.5653\n",
            "Epoch 81/500\n",
            "469/469 [==============================] - 77s 165ms/step - d_loss: 0.6659 - g_loss: 0.6188\n",
            "Epoch 82/500\n",
            "469/469 [==============================] - 77s 165ms/step - d_loss: 0.6818 - g_loss: 0.6448\n",
            "Epoch 83/500\n",
            "469/469 [==============================] - 77s 165ms/step - d_loss: 0.6877 - g_loss: 0.6244\n",
            "Epoch 84/500\n",
            "469/469 [==============================] - 77s 165ms/step - d_loss: 0.6834 - g_loss: 0.6504\n",
            "Epoch 85/500\n",
            "469/469 [==============================] - 77s 165ms/step - d_loss: 0.6454 - g_loss: 0.7083\n",
            "Epoch 86/500\n",
            "469/469 [==============================] - 77s 165ms/step - d_loss: 0.7047 - g_loss: 0.6429\n",
            "Epoch 87/500\n",
            "469/469 [==============================] - 77s 165ms/step - d_loss: 0.6956 - g_loss: 0.6239\n",
            "Epoch 88/500\n",
            "469/469 [==============================] - 77s 165ms/step - d_loss: 0.6564 - g_loss: 0.7548\n",
            "Epoch 89/500\n",
            "469/469 [==============================] - 77s 165ms/step - d_loss: 0.6679 - g_loss: 0.6710\n",
            "Epoch 90/500\n",
            "469/469 [==============================] - 77s 165ms/step - d_loss: 0.6866 - g_loss: 0.6538\n",
            "Epoch 91/500\n",
            "469/469 [==============================] - 77s 165ms/step - d_loss: 0.6808 - g_loss: 0.6632\n",
            "Epoch 92/500\n",
            "469/469 [==============================] - 77s 165ms/step - d_loss: 0.6990 - g_loss: 0.5988\n",
            "Epoch 93/500\n",
            "469/469 [==============================] - 77s 165ms/step - d_loss: 0.6689 - g_loss: 0.6883\n",
            "Epoch 94/500\n",
            "469/469 [==============================] - 77s 164ms/step - d_loss: 0.6807 - g_loss: 0.6377\n",
            "Epoch 95/500\n",
            "469/469 [==============================] - 77s 165ms/step - d_loss: 0.6830 - g_loss: 0.6241\n",
            "Epoch 96/500\n",
            "469/469 [==============================] - 77s 165ms/step - d_loss: 0.6609 - g_loss: 0.6690\n",
            "Epoch 97/500\n",
            "469/469 [==============================] - 77s 165ms/step - d_loss: 0.6686 - g_loss: 0.6682\n",
            "Epoch 98/500\n",
            "469/469 [==============================] - 77s 165ms/step - d_loss: 0.6808 - g_loss: 0.6473\n",
            "Epoch 99/500\n",
            "469/469 [==============================] - 77s 164ms/step - d_loss: 0.6870 - g_loss: 0.6331\n",
            "Epoch 100/500\n",
            "469/469 [==============================] - 77s 165ms/step - d_loss: 0.6842 - g_loss: 0.6568\n",
            "Epoch 101/500\n",
            "469/469 [==============================] - 77s 165ms/step - d_loss: 0.6826 - g_loss: 0.6602\n",
            "Epoch 102/500\n",
            "469/469 [==============================] - 77s 165ms/step - d_loss: 0.6968 - g_loss: 0.6428\n",
            "Epoch 103/500\n",
            "469/469 [==============================] - 77s 165ms/step - d_loss: 0.6728 - g_loss: 0.6826\n",
            "Epoch 104/500\n",
            "469/469 [==============================] - 77s 165ms/step - d_loss: 0.6767 - g_loss: 0.6823\n",
            "Epoch 105/500\n",
            "469/469 [==============================] - 77s 165ms/step - d_loss: 0.6842 - g_loss: 0.6561\n",
            "Epoch 106/500\n",
            "469/469 [==============================] - 77s 165ms/step - d_loss: 0.6887 - g_loss: 0.6028\n",
            "Epoch 107/500\n",
            "469/469 [==============================] - 77s 165ms/step - d_loss: 0.6830 - g_loss: 0.6405\n",
            "Epoch 108/500\n",
            "469/469 [==============================] - 77s 165ms/step - d_loss: 0.6720 - g_loss: 0.6787\n",
            "Epoch 109/500\n",
            "469/469 [==============================] - 77s 165ms/step - d_loss: 0.6690 - g_loss: 0.6826\n",
            "Epoch 110/500\n",
            "469/469 [==============================] - 77s 165ms/step - d_loss: 0.6712 - g_loss: 0.6999\n",
            "Epoch 111/500\n",
            "469/469 [==============================] - 77s 165ms/step - d_loss: 0.6428 - g_loss: 0.7356\n",
            "Epoch 112/500\n",
            "469/469 [==============================] - 77s 165ms/step - d_loss: 0.6455 - g_loss: 0.7141\n",
            "Epoch 113/500\n",
            "469/469 [==============================] - 77s 165ms/step - d_loss: 0.6648 - g_loss: 0.6489\n",
            "Epoch 114/500\n",
            "469/469 [==============================] - 77s 165ms/step - d_loss: 0.6922 - g_loss: 0.6722\n",
            "Epoch 115/500\n",
            "162/469 [=========>....................] - ETA: 50s - d_loss: 0.6894 - g_loss: 0.6345"
          ]
        }
      ]
    },
    {
      "cell_type": "code",
      "source": [
        "#Performance\n",
        "\n",
        "plt.suptitle('Loss Function')\n",
        "plt.plot(hist.history['Discriminator loss'], label='d_loss')\n",
        "plt.plot(hist.history['Generator Loss'], label='g_loss')\n",
        "plt.legend()\n",
        "plt.show()"
      ],
      "metadata": {
        "colab": {
          "base_uri": "https://localhost:8080/",
          "height": 294
        },
        "id": "9yi0jxBy0erw",
        "outputId": "afbb6962-3c41-435d-a9b4-abfccf00c5c1"
      },
      "execution_count": null,
      "outputs": [
        {
          "output_type": "display_data",
          "data": {
            "text/plain": [
              "<Figure size 432x288 with 1 Axes>"
            ],
            "image/png": "[encoded data removed]"
          },
          "metadata": {
            "needs_background": "light"
          }
        }
      ]
    },
    {
      "cell_type": "code",
      "source": [
        "#Generate fake images\n",
        "\n",
        "image = generator.predict(tf.random.normal((16, 128, 1)))\n",
        "fig, ax = plt.subplots(ncols=4, nrows=4, figsize=(10,10))\n",
        "\n",
        "for i in range(4):\n",
        "    for f in range(4):\n",
        "        ax[i][f].imshow(image[(i+1)*(f+1)-1])"
      ],
      "metadata": {
        "colab": {
          "base_uri": "https://localhost:8080/",
          "height": 610
        },
        "id": "xirYD4UB1Ki-",
        "outputId": "ce981805-e6b6-447e-9685-21db18116f96"
      },
      "execution_count": null,
      "outputs": [
        {
          "output_type": "stream",
          "name": "stdout",
          "text": [
            "1/1 [==============================] - 0s 19ms/step\n"
          ]
        },
        {
          "output_type": "display_data",
          "data": {
            "text/plain": [
              "<Figure size 720x720 with 16 Axes>"
            ],
            "image/png": "[encoded data removed]"
          },
          "metadata": {
            "needs_background": "light"
          }
        }
      ]
    }
  ]
}